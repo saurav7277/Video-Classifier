{
 "cells": [
  {
   "cell_type": "markdown",
   "metadata": {},
   "source": [
    "# VIDEO-CLASSIFIER"
   ]
  },
  {
   "cell_type": "markdown",
   "metadata": {},
   "source": [
    "## Project Overview\n",
    "\n",
    "The name of this project is \"VIDEO-CLASSIFIER\". The main motive of this project is to classify video into different categories.Motivation for this project came from world's most popular entertainment service provider like \"Netflix\",\"Hotstar\" etc. which uses the concept of video classifier to classify video into different categories in order to provide ease in finding a particular video on their platform.\n",
    "The dataset for this project is not provided.Dataset will be created as a part of this project by scrapping videos information from Youtube."
   ]
  },
  {
   "cell_type": "markdown",
   "metadata": {},
   "source": [
    "## Problem Statement\n",
    "\n",
    "The problem here is a bit simple.We will be given a video title and our task will be to classify this video title into 6 different categories by building a machine learning model.These 6  categories include:\n",
    "\n",
    "1-Travel\n",
    "\n",
    "2-Science and Technology\n",
    "\n",
    "3-Food\n",
    "\n",
    "4-Manufacturing\n",
    "\n",
    "5-History\n",
    "\n",
    "6-Art and Music\n",
    "\n",
    "To accomplish this project following strategy is decided:\n",
    "\n",
    "Step 1:-Create a separate dataset for each of the above mentioned category by scrapping videos information from Youtube using           Selenium's WebDriver.\n",
    "\n",
    "Step 2:-Merge all the separate datasets into the final Dataset and load it into CSV file.\n",
    "\n",
    "Step 4:-Creae a NLP pipeline for text processing.\n",
    "\n",
    "Step 3:-Choose atleast 3 machine learning model and build and fit its pipeline on the dataset and record precision         score,recall score and f1 score for each of these model.\n",
    "\n",
    "Step 4:- Visually compare the performance of all the choosen model by bar plot with the help of above mentioned metrics.\n",
    "\n",
    "Step 5:- Choosing the final model based on performance comparison and concluding our project.\n",
    "\n",
    "The expected model's performance would be greater than 90% in terms of accuracy.\n"
   ]
  },
  {
   "cell_type": "markdown",
   "metadata": {},
   "source": [
    "## Metrics\n",
    "\n",
    "The metrics  i will be using here is :\n",
    "\n",
    "1-Precision Score\n",
    "\n",
    "2-Recall Score\n",
    "\n",
    "3-F1 Score\n",
    "\n",
    "These 3 metrics are the most popular metrics for comparing machine learning models and i think it will be sufficient for getting  the  knowledge of overall performances of all the model selected. "
   ]
  },
  {
   "cell_type": "markdown",
   "metadata": {},
   "source": [
    "## Scrapping data from Youtube for different categories and creating a Dataset using         Selenium\n",
    "   \n",
    "   Selenium library has been used here to scrap video's information from Youtube.Selenium is a open-source web based              automation testing suite which is also used to perform web scrapping easily.Here ,in this project,Selenium's webdriver          class is used to extract all the necessary information from the videos to create Dataset.\n",
    "   Following steps is implemented to scrap required information from youtube videos:\n",
    "   \n",
    "   1-Selenium package is installed and its webdriver class is imported  \n",
    "  \n",
    "   2-Chrome browser launched  and there Youtube.com is launched\n",
    "   \n",
    "   3-In the search box category name(for example-travel blog) is entered and the search is run with filter applied to videos        only.When the new page is loaded,URL of that web page is copied and is passed to 'get' function of webdriver object.It          open a new browser window .\n",
    "   \n",
    "   4-X-path of the anchor tag with id=video-title is copied and the link of all the videos in the web page is fetched and            appended in a list.\n",
    "   \n",
    "   5-A pandas dataframe is created with columns=['Id', 'Title', 'Description', 'Category']\n",
    "   \n",
    "   6-Finally,all the links  are traversed and run,all the required information from the videos is extracted and inserted in          the dataframe as a single row.\n",
    "     \n",
    "     \n",
    "   This six step is executed separately for all the categories  to create  a separate dataset for each category and all these      individual dataset are merged together to give our final dataset\n",
    "     \n",
    "   "
   ]
  },
  {
   "cell_type": "code",
   "execution_count": 1,
   "metadata": {},
   "outputs": [],
   "source": [
    "#installing Selenium library\n",
    "!pip install selenium\n",
    "import selenium"
   ]
  },
  {
   "cell_type": "code",
   "execution_count": 2,
   "metadata": {},
   "outputs": [],
   "source": [
    "import nltk\n",
    "nltk.download(['punkt', 'wordnet','stopwords'])"
   ]
  },
  {
   "cell_type": "code",
   "execution_count": 3,
   "metadata": {},
   "outputs": [],
   "source": [
    "#importing required library\n",
    "from selenium import webdriver \n",
    "import pandas as pd \n",
    "import numpy as np\n",
    "from selenium.webdriver.common.by import By \n",
    "from selenium.webdriver.support.ui import WebDriverWait \n",
    "from selenium.webdriver.support import expected_conditions as EC\n",
    "from sklearn.preprocessing import LabelEncoder\n",
    "import re\n",
    "from nltk.tokenize import word_tokenize\n",
    "from nltk.stem import WordNetLemmatizer\n",
    "from nltk.corpus import stopwords\n",
    "from sklearn.model_selection import train_test_split\n",
    "from sklearn.ensemble import RandomForestClassifier\n",
    "from sklearn.naive_bayes import MultinomialNB\n",
    "from sklearn.pipeline import Pipeline\n",
    "from sklearn.feature_extraction.text import CountVectorizer, TfidfTransformer\n",
    "from sklearn.metrics import f1_score,precision_score,recall_score\n",
    "import keras\n",
    "from keras.models import Sequential\n",
    "from keras import layers\n",
    "from keras.layers import Dense,Dropout,InputLayer,Activation\n",
    "import math\n",
    "import matplotlib.pyplot as plt\n",
    "%matplotlib inline"
   ]
  },
  {
   "cell_type": "code",
   "execution_count": null,
   "metadata": {},
   "outputs": [],
   "source": [
    "driver = webdriver.Chrome('chromedriver.exe') \n",
    "driver.get(\"https://www.youtube.com/results?search_query=travel+blog&sp=EgIQAQ%253D%253D\")"
   ]
  },
  {
   "cell_type": "markdown",
   "metadata": {},
   "source": [
    "### Scrapping and creating a separate dataset for travel category"
   ]
  },
  {
   "cell_type": "code",
   "execution_count": 72,
   "metadata": {},
   "outputs": [
    {
     "name": "stdout",
     "output_type": "stream",
     "text": [
      "594\n"
     ]
    }
   ],
   "source": [
    "#searching videos for video-title ans storing links of all videos\n",
    "user_data = driver.find_elements_by_xpath('//*[@id=\"video-title\"]')\n",
    "links = []\n",
    "for i in user_data:\n",
    "            links.append(i.get_attribute('href'))\n",
    "\n",
    "print(len(links))"
   ]
  },
  {
   "cell_type": "code",
   "execution_count": 73,
   "metadata": {},
   "outputs": [],
   "source": [
    "#creating dataframe for travel category\n",
    "df_travel = pd.DataFrame(columns = ['Id', 'Title', 'Description', 'Category'])\n"
   ]
  },
  {
   "cell_type": "code",
   "execution_count": 74,
   "metadata": {},
   "outputs": [],
   "source": [
    "#extracting required information and adding it as a row in dataframe\n",
    "wait = WebDriverWait(driver, 10)\n",
    "v_category = \"travel\"\n",
    "for x in links:\n",
    "            driver.get(x)\n",
    "            v_id = x.strip('https://www.youtube.com/watch?v=')\n",
    "            v_title = wait.until(EC.presence_of_element_located(\n",
    "                           (By.CSS_SELECTOR,\"h1.title yt-formatted-string\"))).text\n",
    "            v_description =  wait.until(EC.presence_of_element_located(\n",
    "                                         (By.CSS_SELECTOR,\"div#description yt-formatted-string\"))).text\n",
    "            df_travel.loc[len(df_travel)] = [v_id, v_title, v_description, v_category]"
   ]
  },
  {
   "cell_type": "code",
   "execution_count": 75,
   "metadata": {},
   "outputs": [
    {
     "data": {
      "text/html": [
       "<div>\n",
       "<style scoped>\n",
       "    .dataframe tbody tr th:only-of-type {\n",
       "        vertical-align: middle;\n",
       "    }\n",
       "\n",
       "    .dataframe tbody tr th {\n",
       "        vertical-align: top;\n",
       "    }\n",
       "\n",
       "    .dataframe thead th {\n",
       "        text-align: right;\n",
       "    }\n",
       "</style>\n",
       "<table border=\"1\" class=\"dataframe\">\n",
       "  <thead>\n",
       "    <tr style=\"text-align: right;\">\n",
       "      <th></th>\n",
       "      <th>Id</th>\n",
       "      <th>Title</th>\n",
       "      <th>Description</th>\n",
       "      <th>Category</th>\n",
       "    </tr>\n",
       "  </thead>\n",
       "  <tbody>\n",
       "    <tr>\n",
       "      <th>0</th>\n",
       "      <td>JLZlCZ0</td>\n",
       "      <td>Ep 1| Travelling through North East India | Of...</td>\n",
       "      <td>The journey to Arunachal, North East India beg...</td>\n",
       "      <td>travel</td>\n",
       "    </tr>\n",
       "    <tr>\n",
       "      <th>1</th>\n",
       "      <td>n79Rv0F48</td>\n",
       "      <td>Backpacking In Meghalaya | NorthEast India Tri...</td>\n",
       "      <td>In this video I explored North East India, sta...</td>\n",
       "      <td>travel</td>\n",
       "    </tr>\n",
       "    <tr>\n",
       "      <th>2</th>\n",
       "      <td>2NQE41J5eM</td>\n",
       "      <td>How do I travel so much ! How do I earn money!!</td>\n",
       "      <td>SUBSCRIBE - https://goo.gl/dEtSMJ (‘MountainTr...</td>\n",
       "      <td>travel</td>\n",
       "    </tr>\n",
       "    <tr>\n",
       "      <th>3</th>\n",
       "      <td>Qvg1EW2FFmU</td>\n",
       "      <td>Travel Vlog | Weekend In Pondicherry | Kritika...</td>\n",
       "      <td>Equipment I use for filming: http://geni.us/vK...</td>\n",
       "      <td>travel</td>\n",
       "    </tr>\n",
       "    <tr>\n",
       "      <th>4</th>\n",
       "      <td>i5F7Xh9CO8U</td>\n",
       "      <td>EXPLORING VARANASI | Benaras Travel Vlog #1</td>\n",
       "      <td>Spent an incredible week exploring the beautif...</td>\n",
       "      <td>travel</td>\n",
       "    </tr>\n",
       "  </tbody>\n",
       "</table>\n",
       "</div>"
      ],
      "text/plain": [
       "            Id                                              Title  \\\n",
       "0      JLZlCZ0  Ep 1| Travelling through North East India | Of...   \n",
       "1    n79Rv0F48  Backpacking In Meghalaya | NorthEast India Tri...   \n",
       "2   2NQE41J5eM    How do I travel so much ! How do I earn money!!   \n",
       "3  Qvg1EW2FFmU  Travel Vlog | Weekend In Pondicherry | Kritika...   \n",
       "4  i5F7Xh9CO8U        EXPLORING VARANASI | Benaras Travel Vlog #1   \n",
       "\n",
       "                                         Description Category  \n",
       "0  The journey to Arunachal, North East India beg...   travel  \n",
       "1  In this video I explored North East India, sta...   travel  \n",
       "2  SUBSCRIBE - https://goo.gl/dEtSMJ (‘MountainTr...   travel  \n",
       "3  Equipment I use for filming: http://geni.us/vK...   travel  \n",
       "4  Spent an incredible week exploring the beautif...   travel  "
      ]
     },
     "execution_count": 75,
     "metadata": {},
     "output_type": "execute_result"
    }
   ],
   "source": [
    "df_travel.head()"
   ]
  },
  {
   "cell_type": "code",
   "execution_count": 76,
   "metadata": {},
   "outputs": [],
   "source": [
    "#loading dataframe into csv file\n",
    "df_travel.to_csv('df_travel.csv',index=False)"
   ]
  },
  {
   "cell_type": "markdown",
   "metadata": {},
   "source": [
    "### Scrapping and creating a separate dataset for Science and technology category"
   ]
  },
  {
   "cell_type": "code",
   "execution_count": 27,
   "metadata": {},
   "outputs": [],
   "source": [
    "driver = webdriver.Chrome('chromedriver.exe') \n",
    "driver.get(\"https://www.youtube.com/results?search_query=science+and+technology&sp=EgIQAQ%253D%253D\")"
   ]
  },
  {
   "cell_type": "code",
   "execution_count": 30,
   "metadata": {},
   "outputs": [
    {
     "name": "stdout",
     "output_type": "stream",
     "text": [
      "627\n"
     ]
    }
   ],
   "source": [
    "#searching videos for video-title ans storing links of all videos\n",
    "user_data = driver.find_elements_by_xpath('//*[@id=\"video-title\"]')\n",
    "links = []\n",
    "for i in user_data:\n",
    "            links.append(i.get_attribute('href'))\n",
    "\n",
    "print(len(links))"
   ]
  },
  {
   "cell_type": "code",
   "execution_count": 31,
   "metadata": {},
   "outputs": [],
   "source": [
    "#creating dataframe for science and technology categoru\n",
    "df_science_tech = pd.DataFrame(columns = ['Id', 'Title', 'Description', 'Category'])\n"
   ]
  },
  {
   "cell_type": "code",
   "execution_count": 32,
   "metadata": {},
   "outputs": [],
   "source": [
    "#extracting required information and adding it as a row in dataframe\n",
    "wait = WebDriverWait(driver, 10)\n",
    "v_category = \"science and technology\"\n",
    "for x in links:\n",
    "            driver.get(x)\n",
    "            v_id = x.strip('https://www.youtube.com/watch?v=')\n",
    "            v_title = wait.until(EC.presence_of_element_located(\n",
    "                           (By.CSS_SELECTOR,\"h1.title yt-formatted-string\"))).text\n",
    "            v_description =  wait.until(EC.presence_of_element_located(\n",
    "                                         (By.CSS_SELECTOR,\"div#description yt-formatted-string\"))).text\n",
    "            df_science_tech.loc[len(df_science_tech)] = [v_id, v_title, v_description, v_category]"
   ]
  },
  {
   "cell_type": "code",
   "execution_count": 39,
   "metadata": {},
   "outputs": [
    {
     "data": {
      "text/html": [
       "<div>\n",
       "<style scoped>\n",
       "    .dataframe tbody tr th:only-of-type {\n",
       "        vertical-align: middle;\n",
       "    }\n",
       "\n",
       "    .dataframe tbody tr th {\n",
       "        vertical-align: top;\n",
       "    }\n",
       "\n",
       "    .dataframe thead th {\n",
       "        text-align: right;\n",
       "    }\n",
       "</style>\n",
       "<table border=\"1\" class=\"dataframe\">\n",
       "  <thead>\n",
       "    <tr style=\"text-align: right;\">\n",
       "      <th></th>\n",
       "      <th>Id</th>\n",
       "      <th>Title</th>\n",
       "      <th>Description</th>\n",
       "      <th>Category</th>\n",
       "    </tr>\n",
       "  </thead>\n",
       "  <tbody>\n",
       "    <tr>\n",
       "      <th>0</th>\n",
       "      <td>0DqpgV3w4</td>\n",
       "      <td>#SCIENCE &amp; TECHNOLOGY #CURRENT AFFAIRS 2019 (J...</td>\n",
       "      <td>SCIENCE &amp; TECHNOLOGY CURRENT AFFAIRS 2018 (JAN...</td>\n",
       "      <td>science and technology</td>\n",
       "    </tr>\n",
       "    <tr>\n",
       "      <th>1</th>\n",
       "      <td>f3NWvUV8MD8</td>\n",
       "      <td>Welcome To Future</td>\n",
       "      <td>Theories of technology often attempt to predic...</td>\n",
       "      <td>science and technology</td>\n",
       "    </tr>\n",
       "    <tr>\n",
       "      <th>2</th>\n",
       "      <td>BO5CchnV</td>\n",
       "      <td>Science and Technology | विज्ञानं एवं प्रोधोगि...</td>\n",
       "      <td>In this session in brief discussion on Science...</td>\n",
       "      <td>science and technology</td>\n",
       "    </tr>\n",
       "    <tr>\n",
       "      <th>3</th>\n",
       "      <td>NL01lQ</td>\n",
       "      <td>BBC Documentary 2017 - Future Space Travel Tec...</td>\n",
       "      <td>BBC Documentary 2017 - the edge of space -  bb...</td>\n",
       "      <td>science and technology</td>\n",
       "    </tr>\n",
       "    <tr>\n",
       "      <th>4</th>\n",
       "      <td>Wjia3az6xRY</td>\n",
       "      <td>UPSC CSE Prelims 2019 Science &amp; Technology Cur...</td>\n",
       "      <td>#StudyIQ Pendrive Courses for Various Govt. Ex...</td>\n",
       "      <td>science and technology</td>\n",
       "    </tr>\n",
       "  </tbody>\n",
       "</table>\n",
       "</div>"
      ],
      "text/plain": [
       "            Id                                              Title  \\\n",
       "0    0DqpgV3w4  #SCIENCE & TECHNOLOGY #CURRENT AFFAIRS 2019 (J...   \n",
       "1  f3NWvUV8MD8                                  Welcome To Future   \n",
       "2     BO5CchnV  Science and Technology | विज्ञानं एवं प्रोधोगि...   \n",
       "3       NL01lQ  BBC Documentary 2017 - Future Space Travel Tec...   \n",
       "4  Wjia3az6xRY  UPSC CSE Prelims 2019 Science & Technology Cur...   \n",
       "\n",
       "                                         Description                Category  \n",
       "0  SCIENCE & TECHNOLOGY CURRENT AFFAIRS 2018 (JAN...  science and technology  \n",
       "1  Theories of technology often attempt to predic...  science and technology  \n",
       "2  In this session in brief discussion on Science...  science and technology  \n",
       "3  BBC Documentary 2017 - the edge of space -  bb...  science and technology  \n",
       "4  #StudyIQ Pendrive Courses for Various Govt. Ex...  science and technology  "
      ]
     },
     "execution_count": 39,
     "metadata": {},
     "output_type": "execute_result"
    }
   ],
   "source": [
    "df_science_tech.head()"
   ]
  },
  {
   "cell_type": "code",
   "execution_count": 35,
   "metadata": {},
   "outputs": [],
   "source": [
    "df_science_tech.to_csv('df_science_tech.csv',index=False)"
   ]
  },
  {
   "cell_type": "markdown",
   "metadata": {},
   "source": [
    "### Scrapping and creating a separate dataset for Food category"
   ]
  },
  {
   "cell_type": "code",
   "execution_count": 40,
   "metadata": {},
   "outputs": [],
   "source": [
    "driver = webdriver.Chrome('chromedriver.exe') \n",
    "driver.get(\"https://www.youtube.com/results?search_query=food&sp=EgIQAQ%253D%253D\")"
   ]
  },
  {
   "cell_type": "code",
   "execution_count": 41,
   "metadata": {},
   "outputs": [
    {
     "name": "stdout",
     "output_type": "stream",
     "text": [
      "462\n"
     ]
    }
   ],
   "source": [
    "#searching videos for video-title ans storing links of all videos\n",
    "user_data = driver.find_elements_by_xpath('//*[@id=\"video-title\"]')\n",
    "links = []\n",
    "for i in user_data:\n",
    "            links.append(i.get_attribute('href'))\n",
    "\n",
    "print(len(links))"
   ]
  },
  {
   "cell_type": "code",
   "execution_count": 45,
   "metadata": {},
   "outputs": [],
   "source": [
    "links=links[1:]"
   ]
  },
  {
   "cell_type": "code",
   "execution_count": 42,
   "metadata": {},
   "outputs": [],
   "source": [
    "#creating dataframe for food category\n",
    "\n",
    "df_food = pd.DataFrame(columns = ['Id', 'Title', 'Description', 'Category'])\n"
   ]
  },
  {
   "cell_type": "code",
   "execution_count": 48,
   "metadata": {},
   "outputs": [],
   "source": [
    "#extracting required information and adding it as a row in dataframe\n",
    "wait = WebDriverWait(driver, 10)\n",
    "v_category = \"food\"\n",
    "for x in links:\n",
    "            driver.get(x)\n",
    "            v_id = x.strip('https://www.youtube.com/watch?v=')\n",
    "            v_title = wait.until(EC.presence_of_element_located(\n",
    "                           (By.CSS_SELECTOR,\"h1.title yt-formatted-string\"))).text\n",
    "            v_description =  wait.until(EC.presence_of_element_located(\n",
    "                                         (By.CSS_SELECTOR,\"div#description yt-formatted-string\"))).text\n",
    "            df_food.loc[len(df_food)] = [v_id, v_title, v_description, v_category]"
   ]
  },
  {
   "cell_type": "code",
   "execution_count": 49,
   "metadata": {},
   "outputs": [
    {
     "data": {
      "text/html": [
       "<div>\n",
       "<style scoped>\n",
       "    .dataframe tbody tr th:only-of-type {\n",
       "        vertical-align: middle;\n",
       "    }\n",
       "\n",
       "    .dataframe tbody tr th {\n",
       "        vertical-align: top;\n",
       "    }\n",
       "\n",
       "    .dataframe thead th {\n",
       "        text-align: right;\n",
       "    }\n",
       "</style>\n",
       "<table border=\"1\" class=\"dataframe\">\n",
       "  <thead>\n",
       "    <tr style=\"text-align: right;\">\n",
       "      <th></th>\n",
       "      <th>Id</th>\n",
       "      <th>Title</th>\n",
       "      <th>Description</th>\n",
       "      <th>Category</th>\n",
       "    </tr>\n",
       "  </thead>\n",
       "  <tbody>\n",
       "    <tr>\n",
       "      <th>0</th>\n",
       "      <td>GURlyb9I_B</td>\n",
       "      <td>North Korean Food in Seoul - RAINBOW NOODLES +...</td>\n",
       "      <td>🎥Go check out Mina’s Channel: https://www.yout...</td>\n",
       "      <td>food</td>\n",
       "    </tr>\n",
       "    <tr>\n",
       "      <th>1</th>\n",
       "      <td>0SPwwpruGIA</td>\n",
       "      <td>42 Foods You Need To Eat Before You Die | The ...</td>\n",
       "      <td>This is the ultimate must-try food bucket list...</td>\n",
       "      <td>food</td>\n",
       "    </tr>\n",
       "    <tr>\n",
       "      <th>2</th>\n",
       "      <td>g-7LKjur</td>\n",
       "      <td>Village Food in Pakistan - Chicken Curry by Gr...</td>\n",
       "      <td>► More Street Food in Pakistan:  https://youtu...</td>\n",
       "      <td>food</td>\n",
       "    </tr>\n",
       "    <tr>\n",
       "      <th>3</th>\n",
       "      <td>XwHurP9RH-</td>\n",
       "      <td>42 Cheesy Foods You Need To Eat Before You Die...</td>\n",
       "      <td>From pizza pot pies to cheeseburger dumplings,...</td>\n",
       "      <td>food</td>\n",
       "    </tr>\n",
       "    <tr>\n",
       "      <th>4</th>\n",
       "      <td>87If-Q2pJWQ</td>\n",
       "      <td>Philippines Street Food - AMAZING Filipino Foo...</td>\n",
       "      <td>One of the best Filipino food meals you can ea...</td>\n",
       "      <td>food</td>\n",
       "    </tr>\n",
       "  </tbody>\n",
       "</table>\n",
       "</div>"
      ],
      "text/plain": [
       "            Id                                              Title  \\\n",
       "0   GURlyb9I_B  North Korean Food in Seoul - RAINBOW NOODLES +...   \n",
       "1  0SPwwpruGIA  42 Foods You Need To Eat Before You Die | The ...   \n",
       "2     g-7LKjur  Village Food in Pakistan - Chicken Curry by Gr...   \n",
       "3   XwHurP9RH-  42 Cheesy Foods You Need To Eat Before You Die...   \n",
       "4  87If-Q2pJWQ  Philippines Street Food - AMAZING Filipino Foo...   \n",
       "\n",
       "                                         Description Category  \n",
       "0  🎥Go check out Mina’s Channel: https://www.yout...     food  \n",
       "1  This is the ultimate must-try food bucket list...     food  \n",
       "2  ► More Street Food in Pakistan:  https://youtu...     food  \n",
       "3  From pizza pot pies to cheeseburger dumplings,...     food  \n",
       "4  One of the best Filipino food meals you can ea...     food  "
      ]
     },
     "execution_count": 49,
     "metadata": {},
     "output_type": "execute_result"
    }
   ],
   "source": [
    "df_food.head()"
   ]
  },
  {
   "cell_type": "code",
   "execution_count": 50,
   "metadata": {},
   "outputs": [],
   "source": [
    "df_food.to_csv('df_food.csv',index=False)"
   ]
  },
  {
   "cell_type": "markdown",
   "metadata": {},
   "source": [
    "### Scrapping and creating a separate dataset for Manufacturing category"
   ]
  },
  {
   "cell_type": "code",
   "execution_count": 51,
   "metadata": {},
   "outputs": [],
   "source": [
    "driver = webdriver.Chrome('chromedriver.exe') \n",
    "driver.get(\"https://www.youtube.com/results?search_query=manufacturing&sp=EgIQAQ%253D%253D\")"
   ]
  },
  {
   "cell_type": "code",
   "execution_count": 52,
   "metadata": {},
   "outputs": [
    {
     "name": "stdout",
     "output_type": "stream",
     "text": [
      "614\n"
     ]
    }
   ],
   "source": [
    "#searching videos for video-title ans storing links of all videos\n",
    "user_data = driver.find_elements_by_xpath('//*[@id=\"video-title\"]')\n",
    "links = []\n",
    "for i in user_data:\n",
    "            links.append(i.get_attribute('href'))\n",
    "\n",
    "print(len(links))"
   ]
  },
  {
   "cell_type": "code",
   "execution_count": 53,
   "metadata": {},
   "outputs": [],
   "source": [
    "#creating dataframe for manufacturing category\n",
    "\n",
    "df_manufacturing = pd.DataFrame(columns = ['Id', 'Title', 'Description', 'Category'])\n"
   ]
  },
  {
   "cell_type": "code",
   "execution_count": 54,
   "metadata": {},
   "outputs": [],
   "source": [
    "#extracting required information and adding it as a row in dataframe\n",
    "wait = WebDriverWait(driver, 10)\n",
    "v_category = \"manufacturing\"\n",
    "for x in links:\n",
    "            driver.get(x)\n",
    "            v_id = x.strip('https://www.youtube.com/watch?v=')\n",
    "            v_title = wait.until(EC.presence_of_element_located(\n",
    "                           (By.CSS_SELECTOR,\"h1.title yt-formatted-string\"))).text\n",
    "            v_description =  wait.until(EC.presence_of_element_located(\n",
    "                                         (By.CSS_SELECTOR,\"div#description yt-formatted-string\"))).text\n",
    "            df_manufacturing.loc[len(df_manufacturing)] = [v_id, v_title, v_description, v_category]"
   ]
  },
  {
   "cell_type": "code",
   "execution_count": 55,
   "metadata": {},
   "outputs": [
    {
     "data": {
      "text/html": [
       "<div>\n",
       "<style scoped>\n",
       "    .dataframe tbody tr th:only-of-type {\n",
       "        vertical-align: middle;\n",
       "    }\n",
       "\n",
       "    .dataframe tbody tr th {\n",
       "        vertical-align: top;\n",
       "    }\n",
       "\n",
       "    .dataframe thead th {\n",
       "        text-align: right;\n",
       "    }\n",
       "</style>\n",
       "<table border=\"1\" class=\"dataframe\">\n",
       "  <thead>\n",
       "    <tr style=\"text-align: right;\">\n",
       "      <th></th>\n",
       "      <th>Id</th>\n",
       "      <th>Title</th>\n",
       "      <th>Description</th>\n",
       "      <th>Category</th>\n",
       "    </tr>\n",
       "  </thead>\n",
       "  <tbody>\n",
       "    <tr>\n",
       "      <th>0</th>\n",
       "      <td>N6zU3ePG0</td>\n",
       "      <td>Most Satisfying Manufacturing Process Never Se...</td>\n",
       "      <td>Watching satisfying manufacturing process vide...</td>\n",
       "      <td>manufacturing</td>\n",
       "    </tr>\n",
       "    <tr>\n",
       "      <th>1</th>\n",
       "      <td>5pn8qAKL0V4</td>\n",
       "      <td>Fast Extreme Automatic Car Manufacturing Facto...</td>\n",
       "      <td>Fast Extreme Automatic Car Manufacturing Facto...</td>\n",
       "      <td>manufacturing</td>\n",
       "    </tr>\n",
       "    <tr>\n",
       "      <th>2</th>\n",
       "      <td>YZzMk0NkgM</td>\n",
       "      <td>Satisfying Food Manufacturing Process You Must...</td>\n",
       "      <td>Food manufacturing involves strict processes t...</td>\n",
       "      <td>manufacturing</td>\n",
       "    </tr>\n",
       "    <tr>\n",
       "      <th>3</th>\n",
       "      <td>Ox0ED2ZM</td>\n",
       "      <td>GOLD Manufacture Process - Discover Heavyweigh...</td>\n",
       "      <td>Watch this video if you WANT to KNOW GOLD Manu...</td>\n",
       "      <td>manufacturing</td>\n",
       "    </tr>\n",
       "    <tr>\n",
       "      <th>4</th>\n",
       "      <td>V-tFtSePByQ</td>\n",
       "      <td>Do You Know ! How Are Steel Pipes Produced | S...</td>\n",
       "      <td>How Are #Steel #Pipes Produced | Steel Pipe #M...</td>\n",
       "      <td>manufacturing</td>\n",
       "    </tr>\n",
       "  </tbody>\n",
       "</table>\n",
       "</div>"
      ],
      "text/plain": [
       "            Id                                              Title  \\\n",
       "0    N6zU3ePG0  Most Satisfying Manufacturing Process Never Se...   \n",
       "1  5pn8qAKL0V4  Fast Extreme Automatic Car Manufacturing Facto...   \n",
       "2   YZzMk0NkgM  Satisfying Food Manufacturing Process You Must...   \n",
       "3     Ox0ED2ZM  GOLD Manufacture Process - Discover Heavyweigh...   \n",
       "4  V-tFtSePByQ  Do You Know ! How Are Steel Pipes Produced | S...   \n",
       "\n",
       "                                         Description       Category  \n",
       "0  Watching satisfying manufacturing process vide...  manufacturing  \n",
       "1  Fast Extreme Automatic Car Manufacturing Facto...  manufacturing  \n",
       "2  Food manufacturing involves strict processes t...  manufacturing  \n",
       "3  Watch this video if you WANT to KNOW GOLD Manu...  manufacturing  \n",
       "4  How Are #Steel #Pipes Produced | Steel Pipe #M...  manufacturing  "
      ]
     },
     "execution_count": 55,
     "metadata": {},
     "output_type": "execute_result"
    }
   ],
   "source": [
    "df_manufacturing.head()"
   ]
  },
  {
   "cell_type": "code",
   "execution_count": 56,
   "metadata": {},
   "outputs": [],
   "source": [
    "df_manufacturing.to_csv('df_manufacturing.csv',index=False)"
   ]
  },
  {
   "cell_type": "markdown",
   "metadata": {},
   "source": [
    "### Scrapping and creating a separate dataset for History category"
   ]
  },
  {
   "cell_type": "code",
   "execution_count": 57,
   "metadata": {},
   "outputs": [],
   "source": [
    "driver = webdriver.Chrome('chromedriver.exe') \n",
    "driver.get(\"https://www.youtube.com/results?search_query=history&sp=EgIQAQ%253D%253D\")"
   ]
  },
  {
   "cell_type": "code",
   "execution_count": 58,
   "metadata": {},
   "outputs": [
    {
     "name": "stdout",
     "output_type": "stream",
     "text": [
      "417\n"
     ]
    }
   ],
   "source": [
    "#searching videos for video-title ans storing links of all videos\n",
    "user_data = driver.find_elements_by_xpath('//*[@id=\"video-title\"]')\n",
    "links = []\n",
    "for i in user_data:\n",
    "            links.append(i.get_attribute('href'))\n",
    "\n",
    "print(len(links))"
   ]
  },
  {
   "cell_type": "code",
   "execution_count": 59,
   "metadata": {},
   "outputs": [],
   "source": [
    "#creating dataframe for history category\n",
    "\n",
    "df_history = pd.DataFrame(columns = ['Id', 'Title', 'Description', 'Category'])\n"
   ]
  },
  {
   "cell_type": "code",
   "execution_count": 60,
   "metadata": {},
   "outputs": [],
   "source": [
    "#extracting required information and adding it as a row in dataframe\n",
    "wait = WebDriverWait(driver, 10)\n",
    "v_category = \"history\"\n",
    "for x in links:\n",
    "            driver.get(x)\n",
    "            v_id = x.strip('https://www.youtube.com/watch?v=')\n",
    "            v_title = wait.until(EC.presence_of_element_located(\n",
    "                           (By.CSS_SELECTOR,\"h1.title yt-formatted-string\"))).text\n",
    "            v_description =  wait.until(EC.presence_of_element_located(\n",
    "                                         (By.CSS_SELECTOR,\"div#description yt-formatted-string\"))).text\n",
    "            df_history.loc[len(df_history)] = [v_id, v_title, v_description, v_category]"
   ]
  },
  {
   "cell_type": "code",
   "execution_count": 61,
   "metadata": {},
   "outputs": [
    {
     "data": {
      "text/html": [
       "<div>\n",
       "<style scoped>\n",
       "    .dataframe tbody tr th:only-of-type {\n",
       "        vertical-align: middle;\n",
       "    }\n",
       "\n",
       "    .dataframe tbody tr th {\n",
       "        vertical-align: top;\n",
       "    }\n",
       "\n",
       "    .dataframe thead th {\n",
       "        text-align: right;\n",
       "    }\n",
       "</style>\n",
       "<table border=\"1\" class=\"dataframe\">\n",
       "  <thead>\n",
       "    <tr style=\"text-align: right;\">\n",
       "      <th></th>\n",
       "      <th>Id</th>\n",
       "      <th>Title</th>\n",
       "      <th>Description</th>\n",
       "      <th>Category</th>\n",
       "    </tr>\n",
       "  </thead>\n",
       "  <tbody>\n",
       "    <tr>\n",
       "      <th>0</th>\n",
       "      <td>jmp8CoZBI</td>\n",
       "      <td>One Direction - History (Official Video)</td>\n",
       "      <td>One Direction's official music video for Histo...</td>\n",
       "      <td>history</td>\n",
       "    </tr>\n",
       "    <tr>\n",
       "      <th>1</th>\n",
       "      <td>PSnxA5HREg</td>\n",
       "      <td>Indian History : Ancient History | प्राचीन भारत</td>\n",
       "      <td>Ancient History of India in Hindi |indian hist...</td>\n",
       "      <td>history</td>\n",
       "    </tr>\n",
       "    <tr>\n",
       "      <th>2</th>\n",
       "      <td>BGjVbnU-TpA</td>\n",
       "      <td>क्यूँ आये थे मुघल भारत में , जानिये असलीयत इति...</td>\n",
       "      <td>क्यूँ आयेथे मुघल भारत में , जानिये असलीयत इतिह...</td>\n",
       "      <td>history</td>\n",
       "    </tr>\n",
       "    <tr>\n",
       "      <th>3</th>\n",
       "      <td>XE3XJK8CG6I</td>\n",
       "      <td>5 Most Amazing Accidental Historical Discoveries</td>\n",
       "      <td>5 Most Amazing Accidental Historical Discoveri...</td>\n",
       "      <td>history</td>\n",
       "    </tr>\n",
       "    <tr>\n",
       "      <th>4</th>\n",
       "      <td>QJvyRLSl9U</td>\n",
       "      <td>In Search Of History - Ancient Inventions (His...</td>\n",
       "      <td>Narrated by David Ackroyd\\n\\n\" The Nazca lines...</td>\n",
       "      <td>history</td>\n",
       "    </tr>\n",
       "  </tbody>\n",
       "</table>\n",
       "</div>"
      ],
      "text/plain": [
       "            Id                                              Title  \\\n",
       "0    jmp8CoZBI           One Direction - History (Official Video)   \n",
       "1   PSnxA5HREg    Indian History : Ancient History | प्राचीन भारत   \n",
       "2  BGjVbnU-TpA  क्यूँ आये थे मुघल भारत में , जानिये असलीयत इति...   \n",
       "3  XE3XJK8CG6I   5 Most Amazing Accidental Historical Discoveries   \n",
       "4   QJvyRLSl9U  In Search Of History - Ancient Inventions (His...   \n",
       "\n",
       "                                         Description Category  \n",
       "0  One Direction's official music video for Histo...  history  \n",
       "1  Ancient History of India in Hindi |indian hist...  history  \n",
       "2  क्यूँ आयेथे मुघल भारत में , जानिये असलीयत इतिह...  history  \n",
       "3  5 Most Amazing Accidental Historical Discoveri...  history  \n",
       "4  Narrated by David Ackroyd\\n\\n\" The Nazca lines...  history  "
      ]
     },
     "execution_count": 61,
     "metadata": {},
     "output_type": "execute_result"
    }
   ],
   "source": [
    "df_history.head()"
   ]
  },
  {
   "cell_type": "code",
   "execution_count": 62,
   "metadata": {},
   "outputs": [],
   "source": [
    "df_history.to_csv('df_history.csv',index=False)"
   ]
  },
  {
   "cell_type": "markdown",
   "metadata": {},
   "source": [
    "### Scrapping and creating a separate dataset for Art and Music category"
   ]
  },
  {
   "cell_type": "code",
   "execution_count": 63,
   "metadata": {},
   "outputs": [],
   "source": [
    "driver = webdriver.Chrome('chromedriver.exe') \n",
    "driver.get(\"https://www.youtube.com/results?search_query=art+and+music&sp=EgIQAQ%253D%253D\")"
   ]
  },
  {
   "cell_type": "code",
   "execution_count": 64,
   "metadata": {},
   "outputs": [
    {
     "name": "stdout",
     "output_type": "stream",
     "text": [
      "546\n"
     ]
    }
   ],
   "source": [
    "#searching videos for video-title ans storing links of all videos\n",
    "user_data = driver.find_elements_by_xpath('//*[@id=\"video-title\"]')\n",
    "links = []\n",
    "for i in user_data:\n",
    "            links.append(i.get_attribute('href'))\n",
    "\n",
    "print(len(links))"
   ]
  },
  {
   "cell_type": "code",
   "execution_count": 65,
   "metadata": {},
   "outputs": [],
   "source": [
    "#creating dataframe for art and music category\n",
    "\n",
    "df_art_music = pd.DataFrame(columns = ['Id', 'Title', 'Description', 'Category'])\n"
   ]
  },
  {
   "cell_type": "code",
   "execution_count": 66,
   "metadata": {},
   "outputs": [],
   "source": [
    "#extracting required information and adding it as a row in dataframe\n",
    "wait = WebDriverWait(driver, 10)\n",
    "v_category = \"art and music\"\n",
    "for x in links:\n",
    "            driver.get(x)\n",
    "            v_id = x.strip('https://www.youtube.com/watch?v=')\n",
    "            v_title = wait.until(EC.presence_of_element_located(\n",
    "                           (By.CSS_SELECTOR,\"h1.title yt-formatted-string\"))).text\n",
    "            v_description =  wait.until(EC.presence_of_element_located(\n",
    "                                         (By.CSS_SELECTOR,\"div#description yt-formatted-string\"))).text\n",
    "            df_art_music.loc[len(df_art_music)] = [v_id, v_title, v_description, v_category]"
   ]
  },
  {
   "cell_type": "code",
   "execution_count": 67,
   "metadata": {},
   "outputs": [
    {
     "data": {
      "text/html": [
       "<div>\n",
       "<style scoped>\n",
       "    .dataframe tbody tr th:only-of-type {\n",
       "        vertical-align: middle;\n",
       "    }\n",
       "\n",
       "    .dataframe tbody tr th {\n",
       "        vertical-align: top;\n",
       "    }\n",
       "\n",
       "    .dataframe thead th {\n",
       "        text-align: right;\n",
       "    }\n",
       "</style>\n",
       "<table border=\"1\" class=\"dataframe\">\n",
       "  <thead>\n",
       "    <tr style=\"text-align: right;\">\n",
       "      <th></th>\n",
       "      <th>Id</th>\n",
       "      <th>Title</th>\n",
       "      <th>Description</th>\n",
       "      <th>Category</th>\n",
       "    </tr>\n",
       "  </thead>\n",
       "  <tbody>\n",
       "    <tr>\n",
       "      <th>0</th>\n",
       "      <td>GWCxE-HkVG</td>\n",
       "      <td>Art and Music from the Romantic Era - Rachmani...</td>\n",
       "      <td>Turn on subtitles for information about the pa...</td>\n",
       "      <td>art and music</td>\n",
       "    </tr>\n",
       "    <tr>\n",
       "      <th>1</th>\n",
       "      <td>13E5azGDK1k</td>\n",
       "      <td>FINE ART Music and Painting PEACEFUL SELECTION...</td>\n",
       "      <td>CALM MELODIES AND BEAUTIFUL PICTURES\\nDebussy,...</td>\n",
       "      <td>art and music</td>\n",
       "    </tr>\n",
       "    <tr>\n",
       "      <th>2</th>\n",
       "      <td>4msjtMLm3S</td>\n",
       "      <td>Pt. Bhavani Shankar | Jhaptaal | Pakhawaj | Hi...</td>\n",
       "      <td>Watch Pt. Bhavani Shankar playing pakhawaj in ...</td>\n",
       "      <td>art and music</td>\n",
       "    </tr>\n",
       "    <tr>\n",
       "      <th>3</th>\n",
       "      <td>8XdHP_fQoB0</td>\n",
       "      <td>Beautiful Paintings + Beautiful Classical Music</td>\n",
       "      <td>Beautiful selected paintings combine with some...</td>\n",
       "      <td>art and music</td>\n",
       "    </tr>\n",
       "    <tr>\n",
       "      <th>4</th>\n",
       "      <td>MR8E8bWKPyE</td>\n",
       "      <td>Stephanie Bosch | Raag Chandrakauns | Flute | ...</td>\n",
       "      <td>Stephanie Bosch Flute in Raag Chandrakauns. En...</td>\n",
       "      <td>art and music</td>\n",
       "    </tr>\n",
       "  </tbody>\n",
       "</table>\n",
       "</div>"
      ],
      "text/plain": [
       "            Id                                              Title  \\\n",
       "0   GWCxE-HkVG  Art and Music from the Romantic Era - Rachmani...   \n",
       "1  13E5azGDK1k  FINE ART Music and Painting PEACEFUL SELECTION...   \n",
       "2   4msjtMLm3S  Pt. Bhavani Shankar | Jhaptaal | Pakhawaj | Hi...   \n",
       "3  8XdHP_fQoB0    Beautiful Paintings + Beautiful Classical Music   \n",
       "4  MR8E8bWKPyE  Stephanie Bosch | Raag Chandrakauns | Flute | ...   \n",
       "\n",
       "                                         Description       Category  \n",
       "0  Turn on subtitles for information about the pa...  art and music  \n",
       "1  CALM MELODIES AND BEAUTIFUL PICTURES\\nDebussy,...  art and music  \n",
       "2  Watch Pt. Bhavani Shankar playing pakhawaj in ...  art and music  \n",
       "3  Beautiful selected paintings combine with some...  art and music  \n",
       "4  Stephanie Bosch Flute in Raag Chandrakauns. En...  art and music  "
      ]
     },
     "execution_count": 67,
     "metadata": {},
     "output_type": "execute_result"
    }
   ],
   "source": [
    "df_art_music.head()"
   ]
  },
  {
   "cell_type": "code",
   "execution_count": 68,
   "metadata": {},
   "outputs": [],
   "source": [
    "df_art_music.to_csv('df_art_music.csv',index=False)"
   ]
  },
  {
   "cell_type": "markdown",
   "metadata": {},
   "source": [
    "## Merging and loading into csv file all  the above dataset to give our final Dataset"
   ]
  },
  {
   "cell_type": "code",
   "execution_count": 77,
   "metadata": {},
   "outputs": [],
   "source": [
    "#Merging all the dataset together\n",
    "df=pd.concat([df_travel,df_science_tech,df_food,df_manufacturing,df_history,df_art_music],axis=0)"
   ]
  },
  {
   "cell_type": "code",
   "execution_count": null,
   "metadata": {},
   "outputs": [],
   "source": [
    "df.to_csv('df_merged.csv',index=False)"
   ]
  },
  {
   "cell_type": "markdown",
   "metadata": {},
   "source": [
    "## Data Exploration\n",
    "\n"
   ]
  },
  {
   "cell_type": "code",
   "execution_count": 7,
   "metadata": {},
   "outputs": [
    {
     "data": {
      "text/html": [
       "<div>\n",
       "<style scoped>\n",
       "    .dataframe tbody tr th:only-of-type {\n",
       "        vertical-align: middle;\n",
       "    }\n",
       "\n",
       "    .dataframe tbody tr th {\n",
       "        vertical-align: top;\n",
       "    }\n",
       "\n",
       "    .dataframe thead th {\n",
       "        text-align: right;\n",
       "    }\n",
       "</style>\n",
       "<table border=\"1\" class=\"dataframe\">\n",
       "  <thead>\n",
       "    <tr style=\"text-align: right;\">\n",
       "      <th></th>\n",
       "      <th>Id</th>\n",
       "      <th>Title</th>\n",
       "      <th>Description</th>\n",
       "      <th>Category</th>\n",
       "    </tr>\n",
       "  </thead>\n",
       "  <tbody>\n",
       "    <tr>\n",
       "      <th>0</th>\n",
       "      <td>JLZlCZ0</td>\n",
       "      <td>Ep 1| Travelling through North East India | Of...</td>\n",
       "      <td>The journey to Arunachal, North East India beg...</td>\n",
       "      <td>travel</td>\n",
       "    </tr>\n",
       "    <tr>\n",
       "      <th>1</th>\n",
       "      <td>n79Rv0F48</td>\n",
       "      <td>Backpacking In Meghalaya | NorthEast India Tri...</td>\n",
       "      <td>In this video I explored North East India, sta...</td>\n",
       "      <td>travel</td>\n",
       "    </tr>\n",
       "    <tr>\n",
       "      <th>2</th>\n",
       "      <td>2NQE41J5eM</td>\n",
       "      <td>How do I travel so much ! How do I earn money!!</td>\n",
       "      <td>SUBSCRIBE - https://goo.gl/dEtSMJ (‘MountainTr...</td>\n",
       "      <td>travel</td>\n",
       "    </tr>\n",
       "    <tr>\n",
       "      <th>3</th>\n",
       "      <td>Qvg1EW2FFmU</td>\n",
       "      <td>Travel Vlog | Weekend In Pondicherry | Kritika...</td>\n",
       "      <td>Equipment I use for filming: http://geni.us/vK...</td>\n",
       "      <td>travel</td>\n",
       "    </tr>\n",
       "    <tr>\n",
       "      <th>4</th>\n",
       "      <td>i5F7Xh9CO8U</td>\n",
       "      <td>EXPLORING VARANASI | Benaras Travel Vlog #1</td>\n",
       "      <td>Spent an incredible week exploring the beautif...</td>\n",
       "      <td>travel</td>\n",
       "    </tr>\n",
       "  </tbody>\n",
       "</table>\n",
       "</div>"
      ],
      "text/plain": [
       "            Id                                              Title  \\\n",
       "0      JLZlCZ0  Ep 1| Travelling through North East India | Of...   \n",
       "1    n79Rv0F48  Backpacking In Meghalaya | NorthEast India Tri...   \n",
       "2   2NQE41J5eM    How do I travel so much ! How do I earn money!!   \n",
       "3  Qvg1EW2FFmU  Travel Vlog | Weekend In Pondicherry | Kritika...   \n",
       "4  i5F7Xh9CO8U        EXPLORING VARANASI | Benaras Travel Vlog #1   \n",
       "\n",
       "                                         Description Category  \n",
       "0  The journey to Arunachal, North East India beg...   travel  \n",
       "1  In this video I explored North East India, sta...   travel  \n",
       "2  SUBSCRIBE - https://goo.gl/dEtSMJ (‘MountainTr...   travel  \n",
       "3  Equipment I use for filming: http://geni.us/vK...   travel  \n",
       "4  Spent an incredible week exploring the beautif...   travel  "
      ]
     },
     "execution_count": 7,
     "metadata": {},
     "output_type": "execute_result"
    }
   ],
   "source": [
    "#dataframe lookup\n",
    "df.head()"
   ]
  },
  {
   "cell_type": "markdown",
   "metadata": {},
   "source": [
    "The dataframe consist of following 4 columns:\n",
    "\n",
    "1-Id:-It is the video URL which is unique for any video on YouTube. For example, in https://www.youtube.com/watch?v=RcmrbNRK-jY\n",
    "      RcmrbNRK-jY is the video ID.\n",
    "      \n",
    "2-Title:-It is the video title present for every video on youtube.\n",
    "\n",
    "3-Description:-It is the video description that gives a brief view about the contents of the video\n",
    "\n",
    "4-Category:- It is the category name to which video begins"
   ]
  },
  {
   "cell_type": "code",
   "execution_count": 10,
   "metadata": {},
   "outputs": [
    {
     "name": "stdout",
     "output_type": "stream",
     "text": [
      "Number of rows in dataframe:3259\n",
      "Number of columns in dataframe:4\n"
     ]
    }
   ],
   "source": [
    "print(\"Number of rows in dataframe:{}\".format(df.shape[0]))\n",
    "print(\"Number of columns in dataframe:{}\".format(df.shape[1]))"
   ]
  },
  {
   "cell_type": "code",
   "execution_count": 11,
   "metadata": {},
   "outputs": [
    {
     "data": {
      "text/plain": [
       "science and technology    627\n",
       "manufacturing             614\n",
       "travel                    594\n",
       "art and music             546\n",
       "food                      461\n",
       "history                   417\n",
       "Name: Category, dtype: int64"
      ]
     },
     "execution_count": 11,
     "metadata": {},
     "output_type": "execute_result"
    }
   ],
   "source": [
    "#getting count of each category in dataset\n",
    "df.Category.value_counts()"
   ]
  },
  {
   "cell_type": "markdown",
   "metadata": {},
   "source": [
    "## Data Visualization"
   ]
  },
  {
   "cell_type": "code",
   "execution_count": 20,
   "metadata": {},
   "outputs": [
    {
     "data": {
      "image/png": "[encoded data removed]",
      "text/plain": [
       "<Figure size 432x288 with 1 Axes>"
      ]
     },
     "metadata": {
      "needs_background": "light"
     },
     "output_type": "display_data"
    }
   ],
   "source": [
    "# plotting a bar graph for counts of each category in dataset\n",
    "categories=df.Category.value_counts().index\n",
    "count=df.Category.value_counts()\n",
    "\n",
    "index = np.arange(len(categories))\n",
    "plt.bar(index,count)\n",
    "plt.xlabel('Category', fontsize=10)\n",
    "plt.ylabel('Count', fontsize=10)\n",
    "plt.xticks(index, categories, fontsize=10, rotation=70)\n",
    "plt.title('Count of each category in dataset')\n",
    "plt.ylim()\n",
    "plt.show()"
   ]
  },
  {
   "cell_type": "markdown",
   "metadata": {},
   "source": [
    "## Data Preprocessing\n",
    "\n",
    "The data pre processing task here will comprise of text processing as we are going to deal with the collection of text.\n",
    "For this,i will be building a NLP pipeline that will perform the following fucntions:\n",
    "\n",
    "1-Convert all the text to lower case\n",
    "\n",
    "2-Remove punctuations\n",
    "\n",
    "3-Tokenize text into words\n",
    "\n",
    "4-Removing stopwords\n",
    "\n",
    "5-Lemmatization"
   ]
  },
  {
   "cell_type": "code",
   "execution_count": 21,
   "metadata": {},
   "outputs": [],
   "source": [
    "#NLP pipeline\n",
    "def tokenize(text):\n",
    "    text=text.lower()\n",
    "    text=re.sub(r'[^a-zA-Z0-9]',' ',text)\n",
    "    tokens=word_tokenize(text)\n",
    "    tokens=[w for w in tokens if w not in stopwords.words('english')]\n",
    "    tokens=[WordNetLemmatizer().lemmatize(w).strip() for w in tokens]\n",
    "    return tokens"
   ]
  },
  {
   "cell_type": "markdown",
   "metadata": {},
   "source": [
    "## Building Machine Learning model to classify videos"
   ]
  },
  {
   "cell_type": "code",
   "execution_count": 43,
   "metadata": {},
   "outputs": [],
   "source": [
    "#Label Encoding the category column\n",
    "df=pd.read_csv('df_merged.csv')\n",
    "le=LabelEncoder()\n",
    "df['Category']=le.fit_transform(df['Category'])"
   ]
  },
  {
   "cell_type": "code",
   "execution_count": 44,
   "metadata": {},
   "outputs": [
    {
     "data": {
      "text/plain": [
       "4    627\n",
       "3    614\n",
       "5    594\n",
       "0    546\n",
       "1    461\n",
       "2    417\n",
       "Name: Category, dtype: int64"
      ]
     },
     "execution_count": 44,
     "metadata": {},
     "output_type": "execute_result"
    }
   ],
   "source": [
    "df.Category.value_counts()"
   ]
  },
  {
   "cell_type": "code",
   "execution_count": 45,
   "metadata": {},
   "outputs": [],
   "source": [
    "#extracting features and labels\n",
    "X=df['Title']\n",
    "y=df['Category']\n"
   ]
  },
  {
   "cell_type": "code",
   "execution_count": 46,
   "metadata": {},
   "outputs": [
    {
     "name": "stdout",
     "output_type": "stream",
     "text": [
      "0    Ep 1| Travelling through North East India | Of...\n",
      "1    Backpacking In Meghalaya | NorthEast India Tri...\n",
      "2      How do I travel so much ! How do I earn money!!\n",
      "3    Travel Vlog | Weekend In Pondicherry | Kritika...\n",
      "4          EXPLORING VARANASI | Benaras Travel Vlog #1\n",
      "Name: Title, dtype: object\n",
      "0    5\n",
      "1    5\n",
      "2    5\n",
      "3    5\n",
      "4    5\n",
      "Name: Category, dtype: int64\n"
     ]
    }
   ],
   "source": [
    "print(X.head())\n",
    "print(y.head())"
   ]
  },
  {
   "cell_type": "code",
   "execution_count": 47,
   "metadata": {},
   "outputs": [],
   "source": [
    "#creating training and testing set\n",
    "X_train,X_test,y_train,y_test=train_test_split(X,y,test_size=0.2)"
   ]
  },
  {
   "cell_type": "markdown",
   "metadata": {},
   "source": [
    "### 1-Naive Bayes\n",
    "\n",
    "Naive Bayes is selected because it is easy and fast to predict the class and it also take less training data .The classification here is multi-class classification and naive bayes performs well on multi-class dataset.\n",
    "\n"
   ]
  },
  {
   "cell_type": "code",
   "execution_count": 49,
   "metadata": {},
   "outputs": [],
   "source": [
    "#building pipeline\n",
    "nb_pipeline= Pipeline([('vect',CountVectorizer(tokenizer=tokenize)),\n",
    "                            ('tfidf',TfidfTransformer()),\n",
    "                            ('clf',MultinomialNB())])\n",
    "#training pipeline\n",
    "nb_model=nb_pipeline.fit(X_train,y_train)"
   ]
  },
  {
   "cell_type": "code",
   "execution_count": 50,
   "metadata": {},
   "outputs": [],
   "source": [
    "#testing our trained model\n",
    "y_pred=nb_model.predict(X_test)"
   ]
  },
  {
   "cell_type": "code",
   "execution_count": 51,
   "metadata": {},
   "outputs": [],
   "source": [
    "#recording each metrics\n",
    "nb_precision=precision_score(y_test,y_pred,average=None).mean()\n",
    "nb_recall=recall_score(y_test,y_pred,average=None).mean()\n",
    "nb_f1=f1_score(y_test,y_pred,average=None).mean()"
   ]
  },
  {
   "cell_type": "code",
   "execution_count": 52,
   "metadata": {},
   "outputs": [
    {
     "name": "stdout",
     "output_type": "stream",
     "text": [
      "Average precision score of Naive Bayes is 0.9591518676950331\n",
      "Average recall score of Naive Bayes is 0.9480257116620754\n",
      "Average f1 score of Naive Bayes is 0.951103541934457\n"
     ]
    }
   ],
   "source": [
    "print(\"Average precision score of Naive Bayes is {}\".format(nb_precision))\n",
    "print(\"Average recall score of Naive Bayes is {}\".format(nb_recall))\n",
    "print(\"Average f1 score of Naive Bayes is {}\".format(nb_f1))\n"
   ]
  },
  {
   "cell_type": "markdown",
   "metadata": {},
   "source": [
    "### 2-Random Forest(Boosting ensemble method)\n",
    "\n",
    "It is a boosting ensemble method in which several decision tree(weak learner) are run in sequence such that next decision tree model tries to minimizes the error generated by the previous model.\n",
    "Random forest is implemented here because it reduces Overfitting and also dont need feature normalization."
   ]
  },
  {
   "cell_type": "code",
   "execution_count": 53,
   "metadata": {},
   "outputs": [],
   "source": [
    "#building pipeline\n",
    "random_forest_pipeline= Pipeline([('vect',CountVectorizer(tokenizer=tokenize)),\n",
    "                            ('tfidf',TfidfTransformer()),\n",
    "                            ('clf',RandomForestClassifier())])\n",
    "#training pipeline\n",
    "random_forest_model=random_forest_pipeline.fit(X_train,y_train)"
   ]
  },
  {
   "cell_type": "code",
   "execution_count": 54,
   "metadata": {},
   "outputs": [],
   "source": [
    "#testing our trained model\n",
    "y_pred=random_forest_model.predict(X_test)"
   ]
  },
  {
   "cell_type": "code",
   "execution_count": 55,
   "metadata": {},
   "outputs": [],
   "source": [
    "#recording metrics\n",
    "random_forest_precision=precision_score(y_test,y_pred,average=None).mean()\n",
    "random_forest_recall=recall_score(y_test,y_pred,average=None).mean()\n",
    "random_forest_f1=f1_score(y_test,y_pred,average=None).mean()"
   ]
  },
  {
   "cell_type": "code",
   "execution_count": 56,
   "metadata": {},
   "outputs": [
    {
     "name": "stdout",
     "output_type": "stream",
     "text": [
      "Average precision score of RandomForestClassifier is 0.9748491680085882\n",
      "Average recall score of RandomForestClassifier is 0.9734584817303595\n",
      "Average f1 score of RandomForestClassifier is 0.9739274691758597\n"
     ]
    }
   ],
   "source": [
    "print(\"Average precision score of RandomForestClassifier is {}\".format(random_forest_precision))\n",
    "print(\"Average recall score of RandomForestClassifier is {}\".format(random_forest_recall))\n",
    "print(\"Average f1 score of RandomForestClassifier is {}\".format(random_forest_f1))\n"
   ]
  },
  {
   "cell_type": "markdown",
   "metadata": {},
   "source": [
    "### 3- Neural Network"
   ]
  },
  {
   "cell_type": "code",
   "execution_count": 57,
   "metadata": {},
   "outputs": [],
   "source": [
    "#creating training and testing set\n",
    "X_train,X_test,y_train,y_test=train_test_split(X,y,test_size=0.2)\n",
    "y_test_temp=y_test"
   ]
  },
  {
   "cell_type": "code",
   "execution_count": 58,
   "metadata": {},
   "outputs": [
    {
     "name": "stdout",
     "output_type": "stream",
     "text": [
      "_________________________________________________________________\n",
      "Layer (type)                 Output Shape              Param #   \n",
      "=================================================================\n",
      "dense_1 (Dense)              (None, 512)               7680512   \n",
      "_________________________________________________________________\n",
      "activation_1 (Activation)    (None, 512)               0         \n",
      "_________________________________________________________________\n",
      "dropout_1 (Dropout)          (None, 512)               0         \n",
      "_________________________________________________________________\n",
      "dense_2 (Dense)              (None, 512)               262656    \n",
      "_________________________________________________________________\n",
      "activation_2 (Activation)    (None, 512)               0         \n",
      "_________________________________________________________________\n",
      "dropout_2 (Dropout)          (None, 512)               0         \n",
      "_________________________________________________________________\n",
      "dense_3 (Dense)              (None, 6)                 3078      \n",
      "_________________________________________________________________\n",
      "activation_3 (Activation)    (None, 6)                 0         \n",
      "=================================================================\n",
      "Total params: 7,946,246\n",
      "Trainable params: 7,946,246\n",
      "Non-trainable params: 0\n",
      "_________________________________________________________________\n",
      "Train on 2346 samples, validate on 261 samples\n",
      "Epoch 1/30\n",
      "2346/2346 [==============================] - 11s 5ms/step - loss: 1.1364 - acc: 0.6850 - val_loss: 0.2394 - val_acc: 0.9579\n",
      "Epoch 2/30\n",
      "2346/2346 [==============================] - 11s 4ms/step - loss: 0.0525 - acc: 0.9945 - val_loss: 0.0642 - val_acc: 0.9847\n",
      "Epoch 3/30\n",
      "2346/2346 [==============================] - 10s 4ms/step - loss: 0.0150 - acc: 0.9974 - val_loss: 0.0870 - val_acc: 0.9808\n",
      "Epoch 4/30\n",
      "2346/2346 [==============================] - 10s 4ms/step - loss: 0.0126 - acc: 0.9966 - val_loss: 0.0624 - val_acc: 0.9847\n",
      "Epoch 5/30\n",
      "2346/2346 [==============================] - 10s 4ms/step - loss: 0.0144 - acc: 0.9974 - val_loss: 0.0882 - val_acc: 0.9770\n",
      "Epoch 6/30\n",
      "2346/2346 [==============================] - 9s 4ms/step - loss: 0.0131 - acc: 0.9974 - val_loss: 0.0712 - val_acc: 0.9808\n",
      "Epoch 7/30\n",
      "2346/2346 [==============================] - 10s 4ms/step - loss: 0.0139 - acc: 0.9974 - val_loss: 0.0748 - val_acc: 0.9847\n",
      "Epoch 8/30\n",
      "2346/2346 [==============================] - 10s 4ms/step - loss: 0.0101 - acc: 0.9974 - val_loss: 0.0730 - val_acc: 0.9732\n",
      "Epoch 9/30\n",
      "2346/2346 [==============================] - 9s 4ms/step - loss: 0.0092 - acc: 0.9970 - val_loss: 0.0708 - val_acc: 0.9770\n",
      "Epoch 10/30\n",
      "2346/2346 [==============================] - 10s 4ms/step - loss: 0.0077 - acc: 0.9979 - val_loss: 0.0749 - val_acc: 0.9808\n",
      "Epoch 11/30\n",
      "2346/2346 [==============================] - 11s 5ms/step - loss: 0.0108 - acc: 0.9966 - val_loss: 0.0825 - val_acc: 0.9732\n",
      "Epoch 12/30\n",
      "2346/2346 [==============================] - 10s 4ms/step - loss: 0.0095 - acc: 0.9974 - val_loss: 0.0860 - val_acc: 0.9770\n",
      "Epoch 13/30\n",
      "2346/2346 [==============================] - 10s 4ms/step - loss: 0.0057 - acc: 0.9983 - val_loss: 0.0813 - val_acc: 0.9847\n",
      "Epoch 14/30\n",
      "2346/2346 [==============================] - 10s 4ms/step - loss: 0.0063 - acc: 0.9974 - val_loss: 0.0824 - val_acc: 0.9732\n",
      "Epoch 15/30\n",
      "2346/2346 [==============================] - 10s 4ms/step - loss: 0.0174 - acc: 0.9970 - val_loss: 0.0872 - val_acc: 0.9732\n",
      "Epoch 16/30\n",
      "2346/2346 [==============================] - 10s 4ms/step - loss: 0.0076 - acc: 0.9983 - val_loss: 0.0874 - val_acc: 0.9617\n",
      "Epoch 17/30\n",
      "2346/2346 [==============================] - 10s 4ms/step - loss: 0.0119 - acc: 0.9974 - val_loss: 0.0993 - val_acc: 0.9732\n",
      "Epoch 18/30\n",
      "2346/2346 [==============================] - 10s 4ms/step - loss: 0.0113 - acc: 0.9966 - val_loss: 0.0908 - val_acc: 0.9732\n",
      "Epoch 19/30\n",
      "2346/2346 [==============================] - 11s 5ms/step - loss: 0.0050 - acc: 0.9979 - val_loss: 0.0866 - val_acc: 0.9732\n",
      "Epoch 20/30\n",
      "2346/2346 [==============================] - 10s 4ms/step - loss: 0.0044 - acc: 0.9979 - val_loss: 0.0873 - val_acc: 0.9693\n",
      "Epoch 21/30\n",
      "2346/2346 [==============================] - 10s 4ms/step - loss: 0.0056 - acc: 0.9979 - val_loss: 0.0907 - val_acc: 0.9693\n",
      "Epoch 22/30\n",
      "2346/2346 [==============================] - 11s 4ms/step - loss: 0.0091 - acc: 0.9962 - val_loss: 0.0912 - val_acc: 0.9693\n",
      "Epoch 23/30\n",
      "2346/2346 [==============================] - 10s 4ms/step - loss: 0.0073 - acc: 0.9979 - val_loss: 0.0910 - val_acc: 0.9655\n",
      "Epoch 24/30\n",
      "2346/2346 [==============================] - 10s 4ms/step - loss: 0.0084 - acc: 0.9970 - val_loss: 0.0916 - val_acc: 0.9655\n",
      "Epoch 25/30\n",
      "2346/2346 [==============================] - 10s 4ms/step - loss: 0.0050 - acc: 0.9970 - val_loss: 0.0981 - val_acc: 0.9693\n",
      "Epoch 26/30\n",
      "2346/2346 [==============================] - 10s 4ms/step - loss: 0.0111 - acc: 0.9974 - val_loss: 0.0960 - val_acc: 0.9655\n",
      "Epoch 27/30\n",
      "2346/2346 [==============================] - 10s 4ms/step - loss: 0.0043 - acc: 0.9979 - val_loss: 0.0936 - val_acc: 0.9655\n",
      "Epoch 28/30\n",
      "2346/2346 [==============================] - 10s 4ms/step - loss: 0.0074 - acc: 0.9970 - val_loss: 0.0952 - val_acc: 0.9655\n",
      "Epoch 29/30\n",
      "2346/2346 [==============================] - 10s 4ms/step - loss: 0.0062 - acc: 0.9979 - val_loss: 0.0990 - val_acc: 0.9617\n",
      "Epoch 30/30\n",
      "2346/2346 [==============================] - 10s 4ms/step - loss: 0.0044 - acc: 0.9979 - val_loss: 0.1013 - val_acc: 0.9655\n"
     ]
    }
   ],
   "source": [
    "from keras.preprocessing.text import Tokenizer\n",
    "num_labels = 6\n",
    "vocab_size = 15000\n",
    "batch_size = 100\n",
    " \n",
    "#define Tokenizer with Vocab Size\n",
    "tokenizer = Tokenizer(num_words=vocab_size)\n",
    "tokenizer.fit_on_texts(X_train)\n",
    "\n",
    "#creating tfidf matrix\n",
    "X_train = tokenizer.texts_to_matrix(X_train, mode='tfidf')\n",
    "X_test = tokenizer.texts_to_matrix(X_test, mode='tfidf')\n",
    "\n",
    "y_train= (keras.utils.to_categorical(y_train))\n",
    "y_test=(keras.utils.to_categorical(y_test))\n",
    "\n",
    "#defining sequential model\n",
    "model = Sequential()\n",
    "\n",
    "#adding layers to model\n",
    "model.add(Dense(512, input_shape=(vocab_size,)))\n",
    "model.add(Activation('relu'))\n",
    "model.add(Dropout(0.3))\n",
    "model.add(Dense(512))\n",
    "model.add(Activation('relu'))\n",
    "model.add(Dropout(0.3))\n",
    "model.add(Dense(6))\n",
    "model.add(Activation('softmax'))\n",
    "model.summary()\n",
    " \n",
    "model.compile(loss='categorical_crossentropy',\n",
    "              optimizer='adam',\n",
    "              metrics=['accuracy'])\n",
    "\n",
    "#fitting model to training set\n",
    " \n",
    "history = model.fit(X_train, y_train,\n",
    "                    batch_size=batch_size,\n",
    "                    epochs=30,\n",
    "                    verbose=1,\n",
    "                    validation_split=0.1)"
   ]
  },
  {
   "cell_type": "code",
   "execution_count": 59,
   "metadata": {},
   "outputs": [
    {
     "name": "stdout",
     "output_type": "stream",
     "text": [
      "652/652 [==============================] - 1s 1ms/step\n"
     ]
    }
   ],
   "source": [
    "#getting prediction on test set\n",
    "y_pred=model.predict(X_test)\n",
    "y_pred_cls=model.predict_classes(X_test)"
   ]
  },
  {
   "cell_type": "code",
   "execution_count": 60,
   "metadata": {},
   "outputs": [],
   "source": [
    "#recording metrics\n",
    "nn_precision=precision_score(y_test_temp,y_pred_cls,average=None).mean()\n",
    "nn_recall=recall_score(y_test_temp,y_pred_cls,average=None).mean()\n",
    "nn_f1=f1_score(y_test_temp,y_pred_cls,average=None).mean()"
   ]
  },
  {
   "cell_type": "code",
   "execution_count": 61,
   "metadata": {},
   "outputs": [
    {
     "name": "stdout",
     "output_type": "stream",
     "text": [
      "Average precision score of NeuralNetwork is 0.972855518610051\n",
      "Average recall score of NeuralNetwork is 0.972844962685497\n",
      "Average f1 score of NeuralNetwork is 0.9728448020599569\n"
     ]
    }
   ],
   "source": [
    "print(\"Average precision score of NeuralNetwork is {}\".format(nn_precision))\n",
    "print(\"Average recall score of NeuralNetwork is {}\".format(nn_recall))\n",
    "print(\"Average f1 score of NeuralNetwork is {}\".format(nn_f1))\n"
   ]
  },
  {
   "cell_type": "markdown",
   "metadata": {},
   "source": [
    "### Refinement\n",
    "\n",
    "All the above model are giving high performance on all three metrics(approximately 95%) so there is no need for any refinement.\n",
    "If GridSearch is used for refinement it would take lots of time and would hardly give any changes in any metrics."
   ]
  },
  {
   "cell_type": "markdown",
   "metadata": {},
   "source": [
    "## Model Evaluation and Validation\n",
    "\n",
    "Using the three metrics  discussed above, i am going to visually compare each model for each metrics using bar plot"
   ]
  },
  {
   "cell_type": "code",
   "execution_count": 62,
   "metadata": {},
   "outputs": [],
   "source": [
    "#setting up required items for bar plot\n",
    "label=['Naive Bayes','Random Forest','Neural Network']\n",
    "precision=[nb_precision,random_forest_precision,nn_precision]\n",
    "recall=[nb_recall,random_forest_recall,nn_recall]\n",
    "f1=[nb_f1,random_forest_f1,nn_f1]"
   ]
  },
  {
   "cell_type": "code",
   "execution_count": 65,
   "metadata": {},
   "outputs": [],
   "source": [
    "#method for plotting bar plot\n",
    "def plot_bar(metrics,y_label,title):\n",
    "    index = np.arange(len(label))\n",
    "    plt.bar(index,metrics)\n",
    "    plt.xlabel('Algorithm', fontsize=10)\n",
    "    plt.ylabel(y_label, fontsize=10)\n",
    "    plt.xticks(index, label, fontsize=10, rotation=30)\n",
    "    plt.title(title)\n",
    "    plt.ylim(0.90,1.0)\n",
    "    plt.show()"
   ]
  },
  {
   "cell_type": "code",
   "execution_count": 66,
   "metadata": {},
   "outputs": [
    {
     "data": {
      "image/png": "[encoded data removed]",
      "text/plain": [
       "<matplotlib.figure.Figure at 0x7fc9d6a37080>"
      ]
     },
     "metadata": {
      "needs_background": "light"
     },
     "output_type": "display_data"
    },
    {
     "data": {
      "image/png": "[encoded data removed]",
      "text/plain": [
       "<matplotlib.figure.Figure at 0x7fc9d69a74a8>"
      ]
     },
     "metadata": {
      "needs_background": "light"
     },
     "output_type": "display_data"
    },
    {
     "data": {
      "image/png": "[encoded data removed]",
      "text/plain": [
       "<matplotlib.figure.Figure at 0x7fc9d69a7470>"
      ]
     },
     "metadata": {
      "needs_background": "light"
     },
     "output_type": "display_data"
    }
   ],
   "source": [
    "plot_bar(precision,'Average Precision','Precision Score Of Different Algorithm')\n",
    "plot_bar(recall,'Average Recall','Recall Score Of Different Algorithm')\n",
    "plot_bar(f1,'Average F1','F1 Score Of Different Algorithm')\n"
   ]
  },
  {
   "cell_type": "markdown",
   "metadata": {},
   "source": [
    "# Justification\n",
    "\n",
    "Naive Bayes performs poorer than Random Forest and Neural Network and gives less score on precision,recall and f1.\n",
    "Random Forest and Neural Network almost performs same and gives approximately same score on precision,recall and f1.\n",
    "The final model that i prefer is Random Forest as it is more precise than all the rest two.This algorithm worked better because it gets trained by combining rsults from different decision tree(weak learner)  to give final model(strong learner)"
   ]
  },
  {
   "cell_type": "markdown",
   "metadata": {},
   "source": [
    "## Conclusion\n",
    "\n",
    "Finally,the problem for classifying videos is solved.A machine learning model is build that can classify any video into 6 different categories.The most difficult and interesting part of this project was scrapping and creating a dataset from youtube as it took a huge amount of time(nearly 2 days).\n",
    "\n",
    "Improvements:The dataset here contains only 3259 rows that means there are very less records for each categories.Splitting this dataset into training and testing set results in less data for each category for the model to get trained on.If the data for each category is increased to atleast 1500 data than our model will get trained well and would give more performance than the model here."
   ]
  },
  {
   "cell_type": "code",
   "execution_count": null,
   "metadata": {},
   "outputs": [],
   "source": []
  }
 ],
 "metadata": {
  "kernelspec": {
   "display_name": "Python 3",
   "language": "python",
   "name": "python3"
  },
  "language_info": {
   "codemirror_mode": {
    "name": "ipython",
    "version": 3
   },
   "file_extension": ".py",
   "mimetype": "text/x-python",
   "name": "python",
   "nbconvert_exporter": "python",
   "pygments_lexer": "ipython3",
   "version": "3.7.1"
  }
 },
 "nbformat": 4,
 "nbformat_minor": 2
}
